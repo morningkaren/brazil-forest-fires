{
 "cells": [
  {
   "cell_type": "markdown",
   "metadata": {},
   "source": [
    "# Table of Contents\n",
    "\n",
    "2. <a href='#cleaning'>Data Cleaning</a>\n",
    "\n",
    "\n",
    "3. <a href='#geocoding'>Geocoding</a>\n",
    "\n",
    "\n",
    "4. <a href='#apply'>Apply Functions</a>\n",
    "\n",
    "\n",
    "5. <a href='#dataframe'>Average # of Forest Fires Per Year in Each State</a>\n",
    "\n",
    "\n",
    "6. <a href='#sum'>Total Number of Forest Fires in Each State Per Year</a>\n",
    "    \n",
    "    \n",
    "7. <a href='#monthly'>Monthly Trends in Forest Fires</a>"
   ]
  },
  {
   "cell_type": "markdown",
   "metadata": {},
   "source": [
    "# Data Cleaning\n",
    "<a id='cleaning'></a>"
   ]
  },
  {
   "cell_type": "code",
   "execution_count": 92,
   "metadata": {
    "ExecuteTime": {
     "end_time": "2019-11-25T19:36:49.158972Z",
     "start_time": "2019-11-25T19:36:49.152273Z"
    }
   },
   "outputs": [],
   "source": [
    "import pandas as pd\n",
    "import numpy as np\n"
   ]
  },
  {
   "cell_type": "code",
   "execution_count": 94,
   "metadata": {
    "ExecuteTime": {
     "end_time": "2019-11-25T19:36:54.726182Z",
     "start_time": "2019-11-25T19:36:54.613592Z"
    }
   },
   "outputs": [],
   "source": [
    "#read CSV file to a dataframe\n",
    "df = pd.read_csv('brazil.csv', engine= 'python')"
   ]
  },
  {
   "cell_type": "code",
   "execution_count": 95,
   "metadata": {
    "ExecuteTime": {
     "end_time": "2019-11-25T19:36:55.228952Z",
     "start_time": "2019-11-25T19:36:55.164700Z"
    }
   },
   "outputs": [
    {
     "data": {
      "text/plain": [
       "array(['Janeiro', 'Fevereiro', 'Mar�o', 'Abril', 'Maio', 'Junho', 'Julho',\n",
       "       'Agosto', 'Setembro', 'Outubro', 'Novembro', 'Dezembro'],\n",
       "      dtype=object)"
      ]
     },
     "execution_count": 95,
     "metadata": {},
     "output_type": "execute_result"
    }
   ],
   "source": [
    "#look at unique month names to convert to numeric\n",
    "df['month'].unique()"
   ]
  },
  {
   "cell_type": "code",
   "execution_count": 96,
   "metadata": {
    "ExecuteTime": {
     "end_time": "2019-11-25T19:36:56.119608Z",
     "start_time": "2019-11-25T19:36:56.084360Z"
    }
   },
   "outputs": [],
   "source": [
    "#convert month names to numeric\n",
    "list1 = []\n",
    "for element in df['month']:\n",
    "    if element == 'Janeiro':\n",
    "        list1.append(1)\n",
    "    if element == 'Fevereiro':\n",
    "        list1.append(2)\n",
    "    if element == 'Mar�o':\n",
    "        list1.append(3)\n",
    "    if element == 'Abril':\n",
    "        list1.append(4)\n",
    "    if element == 'Maio':\n",
    "        list1.append(5)\n",
    "    if element == 'Junho':\n",
    "        list1.append(6)\n",
    "    if element == 'Julho':\n",
    "        list1.append(7)\n",
    "    if element == 'Agosto':\n",
    "        list1.append(8)\n",
    "    if element == 'Setembro':\n",
    "        list1.append(9)\n",
    "    if element == 'Outubro':\n",
    "        list1.append(10)\n",
    "    if element == 'Novembro':\n",
    "        list1.append(11)\n",
    "    if element == 'Dezembro':\n",
    "        list1.append(12)\n",
    "    \n",
    "        "
   ]
  },
  {
   "cell_type": "code",
   "execution_count": 97,
   "metadata": {
    "ExecuteTime": {
     "end_time": "2019-11-25T19:36:56.766199Z",
     "start_time": "2019-11-25T19:36:56.730401Z"
    }
   },
   "outputs": [],
   "source": [
    "#add new column of numerical months to dataframe\n",
    "df['month_num'] = list1"
   ]
  },
  {
   "cell_type": "markdown",
   "metadata": {},
   "source": [
    "# Geocoding\n",
    "<a id='geocoding'></a>"
   ]
  },
  {
   "cell_type": "code",
   "execution_count": 301,
   "metadata": {
    "ExecuteTime": {
     "end_time": "2019-11-24T04:35:27.961046Z",
     "start_time": "2019-11-24T04:35:27.844326Z"
    }
   },
   "outputs": [
    {
     "name": "stdout",
     "output_type": "stream",
     "text": [
      "[{\"place_id\":\"222952227\",\"licence\":\"https:\\/\\/locationiq.com\\/attribution\",\"osm_type\":\"relation\",\"osm_id\":\"303940\",\"boundingbox\":[\"-11.5682434\",\"-9.515\",\"-38.245\",\"-36.2819698\"],\"lat\":\"-10.6743911\",\"lon\":\"-37.3773519\",\"display_name\":\"Sergipe, Northeast Region, Brazil\",\"class\":\"boundary\",\"type\":\"administrative\",\"importance\":0.80410213669869,\"icon\":\"https:\\/\\/locationiq.org\\/static\\/images\\/mapicons\\/poi_boundary_administrative.p.20.png\"},{\"place_id\":\"56818604\",\"licence\":\"https:\\/\\/locationiq.com\\/attribution\",\"osm_type\":\"node\",\"osm_id\":\"4663193845\",\"boundingbox\":[\"-5.0632506\",\"-5.0232506\",\"-38.9847026\",\"-38.9447026\"],\"lat\":\"-5.0432506\",\"lon\":\"-38.9647026\",\"display_name\":\"Sergipe, Quixad\\u00e1, Microrregi\\u00e3o o Sert\\u00e3o de Quixeramobim, Mesorregi\\u00e3o dos Sert\\u00f5es Cearenses, Cear\\u00e1, Northeast Region, Brazil\",\"class\":\"place\",\"type\":\"suburb\",\"importance\":0.47,\"icon\":\"https:\\/\\/locationiq.org\\/static\\/images\\/mapicons\\/poi_place_village.p.20.png\"},{\"place_id\":\"196953093\",\"licence\":\"https:\\/\\/locationiq.com\\/attribution\",\"osm_type\":\"way\",\"osm_id\":\"543018675\",\"boundingbox\":[\"-8.1196586\",\"-8.1189053\",\"-35.0298974\",\"-35.0280412\"],\"lat\":\"-8.1193721\",\"lon\":\"-35.0287162\",\"display_name\":\"Sergipe, Vila Rica, Jaboat\\u00e3o, Jaboat\\u00e3o dos Guararapes, Microrregi\\u00e3o de Recife, Regi\\u00e3o Metropolitana de Recife, Mesorregi\\u00e3o Metropolitana de Recife, Pernambuco, Northeast Region, 54080-061, Brazil\",\"class\":\"highway\",\"type\":\"residential\",\"importance\":0.32},{\"place_id\":\"114173423\",\"licence\":\"https:\\/\\/locationiq.com\\/attribution\",\"osm_type\":\"way\",\"osm_id\":\"135473233\",\"boundingbox\":[\"-25.2903324\",\"-25.2878171\",\"-54.0990141\",\"-54.0884752\"],\"lat\":\"-25.2903324\",\"lon\":\"-54.0990141\",\"display_name\":\"Sergipe, Medianeira, Microrregi\\u00e3o Foz do Igua\\u00e7u, Mesorregi\\u00e3o Oeste Paranaense, Paran\\u00e1, South Region, 85884000, Brazil\",\"class\":\"highway\",\"type\":\"residential\",\"importance\":0.32},{\"place_id\":\"9383770\",\"licence\":\"https:\\/\\/locationiq.com\\/attribution\",\"osm_type\":\"node\",\"osm_id\":\"959095473\",\"boundingbox\":[\"-10.9696867\",\"-10.9695867\",\"-37.0364361\",\"-37.0363361\"],\"lat\":\"-10.9696367\",\"lon\":\"-37.0363861\",\"display_name\":\"Sergipe, Rua Capit\\u00e3o Edvaldo Lima Santos, Coroa do Meio, Aracaju, Microrregi\\u00e3o da Grande Aracaju, Mesorregi\\u00e3o Leste Sergipano, Sergipe, Northeast Region, 49035-000, Brazil\",\"class\":\"man_made\",\"type\":\"lighthouse\",\"importance\":0.221},{\"place_id\":\"41280827\",\"licence\":\"https:\\/\\/locationiq.com\\/attribution\",\"osm_type\":\"node\",\"osm_id\":\"3098123207\",\"boundingbox\":[\"-24.7506294\",\"-24.7505294\",\"-53.7249928\",\"-53.7248928\"],\"lat\":\"-24.7505794\",\"lon\":\"-53.7249428\",\"display_name\":\"Sergipe, Rua \\u00c2ngela Fornari, SADIA\\/BRF, Too, Microrregi\\u00e3o Toledo, Mesorregi\\u00e3o Oeste Paranaense, Paran\\u00e1, South Region, 85914-120, Brazil\",\"class\":\"man_made\",\"type\":\"flagpole\",\"importance\":0.221}]\n"
     ]
    }
   ],
   "source": [
    "#getting the lattitude and longitude values for each state\n",
    "\n",
    "import requests\n",
    "\n",
    "url = \"https://us1.locationiq.com/v1/search.php\"\n",
    "\n",
    "data = {\n",
    "    'key': '3201f2161736ea',\n",
    "    'q': 'Sergipe, Brazil',\n",
    "    'format': 'json'\n",
    "}\n",
    "\n",
    "response = requests.get(url, params=data)\n",
    "\n",
    "print(response.text)"
   ]
  },
  {
   "cell_type": "code",
   "execution_count": 7,
   "metadata": {
    "ExecuteTime": {
     "end_time": "2019-11-24T21:50:14.056389Z",
     "start_time": "2019-11-24T21:50:14.047584Z"
    }
   },
   "outputs": [],
   "source": [
    "#creating a dictionary of state and lattitude/longitude values\n",
    "lat_lon = {'Sao Paulo': (-23.5506507,-46.6333824),\n",
    "           'Mato Grosso': (-12.2115009,-55.5716547),\n",
    "           'Bahia':(-12.285251,-41.9294776),\n",
    "           'Piau': (-21.5074738,-43.320587 ),\n",
    "           'Goias': (-15.9323662, -50.1392928),\n",
    "           'Minas Gerais': (-18.5264844, -44.1588654),\n",
    "           'Tocantins': (-10.8855129, -48.3716912),\n",
    "           'Amazonas': (-4.479925,-63.5185396),\n",
    "           'Ceara': (-5.3264703,-39.7156073),\n",
    "           'Paraiba': (-7.1219366,-36.7246845),\n",
    "           'Maranhao': (-5.2085503,-45.3930262),\n",
    "           'Par�': (-4.7493933,-52.8973006),\n",
    "           'Pernambuco': (-8.4116316,-37.5919699),\n",
    "           'Roraima': (2.135138,-61.3631922),\n",
    "           'Santa Catarina': (-27.0628367,-51.114965),\n",
    "           'Amapa': (1.3545442,-51.9161977),\n",
    "           'Rondonia': (-10.943145,-62.8277863),\n",
    "           'Acre': (-9.0478679,-70.5264976),\n",
    "           'Rio': (-22.9110137,-43.2093727),\n",
    "           'Espirito Santo': (-22.9110137,-43.2093727),\n",
    "           'Alagoas': (-9.6611661,-36.6502426),\n",
    "           'Distrito Federal': (-15.7754462,-47.7970891),\n",
    "           'Sergipe': (-10.6743911,-37.3773519)}"
   ]
  },
  {
   "cell_type": "markdown",
   "metadata": {},
   "source": [
    "# Apply functions to add Latitude and Longitude \n",
    "<a id='apply'></a>"
   ]
  },
  {
   "cell_type": "code",
   "execution_count": 8,
   "metadata": {
    "ExecuteTime": {
     "end_time": "2019-11-24T21:50:14.495141Z",
     "start_time": "2019-11-24T21:50:14.489233Z"
    }
   },
   "outputs": [],
   "source": [
    "#function to add lattitude values to each row in existing dataframe\n",
    "def function1(df):\n",
    "    return lat_lon[df][0]\n",
    "    \n",
    "    \n",
    "df['lat'] = df['state'].apply(function1)"
   ]
  },
  {
   "cell_type": "code",
   "execution_count": 9,
   "metadata": {
    "ExecuteTime": {
     "end_time": "2019-11-24T21:50:15.233002Z",
     "start_time": "2019-11-24T21:50:15.225782Z"
    }
   },
   "outputs": [],
   "source": [
    "#function to add longitude values to each row in existing dataframe\n",
    "def function2(df):\n",
    "    return lat_lon[df][1]\n",
    "\n",
    "df['lon'] = df['state'].apply(function2)"
   ]
  },
  {
   "cell_type": "markdown",
   "metadata": {},
   "source": [
    "# Dataframe of Average Number of Forest Fires Per Year in Each State\n",
    "<a id='dataframe'></a>"
   ]
  },
  {
   "cell_type": "code",
   "execution_count": 359,
   "metadata": {
    "ExecuteTime": {
     "end_time": "2019-11-24T05:38:47.680040Z",
     "start_time": "2019-11-24T05:38:47.675838Z"
    }
   },
   "outputs": [],
   "source": [
    "#function to find average number of forest fires each year by state\n",
    "def df_year(df, year):\n",
    "    df_year = df[df['year'] == year].groupby(['state']).mean()\n",
    "    return df_year"
   ]
  },
  {
   "cell_type": "code",
   "execution_count": 407,
   "metadata": {
    "ExecuteTime": {
     "end_time": "2019-11-24T21:28:42.118426Z",
     "start_time": "2019-11-24T21:28:41.984170Z"
    }
   },
   "outputs": [],
   "source": [
    "#concatenating dataframes to one large dataframe\n",
    "df_year_concat = pd.DataFrame()\n",
    "for n in range (1998, 2018):\n",
    "    df_year_concat = pd.concat([df_year_concat, df_year(df, n)])\n"
   ]
  },
  {
   "cell_type": "code",
   "execution_count": 409,
   "metadata": {
    "ExecuteTime": {
     "end_time": "2019-11-24T21:29:52.750545Z",
     "start_time": "2019-11-24T21:29:52.701579Z"
    },
    "scrolled": true
   },
   "outputs": [],
   "source": [
    "#converting dataframe to csv file for use in Tableau\n",
    "df_year_concat.to_csv(path_or_buf = 'concat.csv')"
   ]
  },
  {
   "cell_type": "markdown",
   "metadata": {},
   "source": [
    "# Total Number of Forest Fires in Each State Per Year\n",
    "<a id='sum'></a>"
   ]
  },
  {
   "cell_type": "code",
   "execution_count": 80,
   "metadata": {
    "ExecuteTime": {
     "end_time": "2019-11-25T17:18:42.591939Z",
     "start_time": "2019-11-25T17:18:42.058850Z"
    }
   },
   "outputs": [],
   "source": [
    "#loop to find the total number of forest fires in each state per year\n",
    "list1= []\n",
    "for n in range (1998, 2018):\n",
    "    list1.append(df[df['year']==n].groupby(['state']).sum()['number'].sum())\n",
    "\n",
    "total_num_ff = []\n",
    "idx1 = []\n",
    "for idx, i in enumerate(list1, start=1998):\n",
    "    total_num_ff.append(int(i))\n",
    "    idx1.append(idx)\n",
    "    "
   ]
  },
  {
   "cell_type": "code",
   "execution_count": 30,
   "metadata": {
    "ExecuteTime": {
     "end_time": "2019-11-24T22:11:51.149836Z",
     "start_time": "2019-11-24T22:11:51.115484Z"
    }
   },
   "outputs": [],
   "source": [
    "#creating new dataframes which has a list of years and a list of the total number of forest fires over time.\n",
    "\n",
    "year_col = pd.DataFrame(data =idx1, columns=['year'], dtype= float)\n",
    "                                                       \n",
    "ff_col = pd.DataFrame(data=total_num_ff, columns = ['total_ff'],dtype = float)\n",
    "                                                       \n",
    "                                                       \n",
    "                                                       "
   ]
  },
  {
   "cell_type": "code",
   "execution_count": 31,
   "metadata": {
    "ExecuteTime": {
     "end_time": "2019-11-24T22:11:51.989918Z",
     "start_time": "2019-11-24T22:11:51.976512Z"
    }
   },
   "outputs": [],
   "source": [
    "#concatenating the two previous dataframes into one dataframe\n",
    "year_total_ff = pd.concat([year_col, ff_col], axis=1)"
   ]
  },
  {
   "cell_type": "code",
   "execution_count": 32,
   "metadata": {
    "ExecuteTime": {
     "end_time": "2019-11-24T22:11:53.382074Z",
     "start_time": "2019-11-24T22:11:53.365362Z"
    }
   },
   "outputs": [],
   "source": [
    "#converting dataframe to csv for use in tableau\n",
    "year_total_ff.to_csv(path_or_buf = 'year_total_ff.csv')"
   ]
  },
  {
   "cell_type": "code",
   "execution_count": 33,
   "metadata": {
    "ExecuteTime": {
     "end_time": "2019-11-24T22:14:38.882292Z",
     "start_time": "2019-11-24T22:14:38.842784Z"
    }
   },
   "outputs": [
    {
     "data": {
      "text/html": [
       "<div>\n",
       "<style scoped>\n",
       "    .dataframe tbody tr th:only-of-type {\n",
       "        vertical-align: middle;\n",
       "    }\n",
       "\n",
       "    .dataframe tbody tr th {\n",
       "        vertical-align: top;\n",
       "    }\n",
       "\n",
       "    .dataframe thead th {\n",
       "        text-align: right;\n",
       "    }\n",
       "</style>\n",
       "<table border=\"1\" class=\"dataframe\">\n",
       "  <thead>\n",
       "    <tr style=\"text-align: right;\">\n",
       "      <th></th>\n",
       "      <th>year</th>\n",
       "      <th>total_ff</th>\n",
       "    </tr>\n",
       "  </thead>\n",
       "  <tbody>\n",
       "    <tr>\n",
       "      <th>0</th>\n",
       "      <td>1998.0</td>\n",
       "      <td>20013.0</td>\n",
       "    </tr>\n",
       "    <tr>\n",
       "      <th>1</th>\n",
       "      <td>1999.0</td>\n",
       "      <td>26882.0</td>\n",
       "    </tr>\n",
       "    <tr>\n",
       "      <th>2</th>\n",
       "      <td>2000.0</td>\n",
       "      <td>27351.0</td>\n",
       "    </tr>\n",
       "    <tr>\n",
       "      <th>3</th>\n",
       "      <td>2001.0</td>\n",
       "      <td>29071.0</td>\n",
       "    </tr>\n",
       "    <tr>\n",
       "      <th>4</th>\n",
       "      <td>2002.0</td>\n",
       "      <td>37390.0</td>\n",
       "    </tr>\n",
       "    <tr>\n",
       "      <th>5</th>\n",
       "      <td>2003.0</td>\n",
       "      <td>42760.0</td>\n",
       "    </tr>\n",
       "    <tr>\n",
       "      <th>6</th>\n",
       "      <td>2004.0</td>\n",
       "      <td>38453.0</td>\n",
       "    </tr>\n",
       "    <tr>\n",
       "      <th>7</th>\n",
       "      <td>2005.0</td>\n",
       "      <td>35004.0</td>\n",
       "    </tr>\n",
       "    <tr>\n",
       "      <th>8</th>\n",
       "      <td>2006.0</td>\n",
       "      <td>33832.0</td>\n",
       "    </tr>\n",
       "    <tr>\n",
       "      <th>9</th>\n",
       "      <td>2007.0</td>\n",
       "      <td>33037.0</td>\n",
       "    </tr>\n",
       "    <tr>\n",
       "      <th>10</th>\n",
       "      <td>2008.0</td>\n",
       "      <td>29378.0</td>\n",
       "    </tr>\n",
       "    <tr>\n",
       "      <th>11</th>\n",
       "      <td>2009.0</td>\n",
       "      <td>39117.0</td>\n",
       "    </tr>\n",
       "    <tr>\n",
       "      <th>12</th>\n",
       "      <td>2010.0</td>\n",
       "      <td>37037.0</td>\n",
       "    </tr>\n",
       "    <tr>\n",
       "      <th>13</th>\n",
       "      <td>2011.0</td>\n",
       "      <td>34633.0</td>\n",
       "    </tr>\n",
       "    <tr>\n",
       "      <th>14</th>\n",
       "      <td>2012.0</td>\n",
       "      <td>40084.0</td>\n",
       "    </tr>\n",
       "    <tr>\n",
       "      <th>15</th>\n",
       "      <td>2013.0</td>\n",
       "      <td>35146.0</td>\n",
       "    </tr>\n",
       "    <tr>\n",
       "      <th>16</th>\n",
       "      <td>2014.0</td>\n",
       "      <td>39621.0</td>\n",
       "    </tr>\n",
       "    <tr>\n",
       "      <th>17</th>\n",
       "      <td>2015.0</td>\n",
       "      <td>41208.0</td>\n",
       "    </tr>\n",
       "    <tr>\n",
       "      <th>18</th>\n",
       "      <td>2016.0</td>\n",
       "      <td>42212.0</td>\n",
       "    </tr>\n",
       "    <tr>\n",
       "      <th>19</th>\n",
       "      <td>2017.0</td>\n",
       "      <td>36685.0</td>\n",
       "    </tr>\n",
       "  </tbody>\n",
       "</table>\n",
       "</div>"
      ],
      "text/plain": [
       "      year  total_ff\n",
       "0   1998.0   20013.0\n",
       "1   1999.0   26882.0\n",
       "2   2000.0   27351.0\n",
       "3   2001.0   29071.0\n",
       "4   2002.0   37390.0\n",
       "5   2003.0   42760.0\n",
       "6   2004.0   38453.0\n",
       "7   2005.0   35004.0\n",
       "8   2006.0   33832.0\n",
       "9   2007.0   33037.0\n",
       "10  2008.0   29378.0\n",
       "11  2009.0   39117.0\n",
       "12  2010.0   37037.0\n",
       "13  2011.0   34633.0\n",
       "14  2012.0   40084.0\n",
       "15  2013.0   35146.0\n",
       "16  2014.0   39621.0\n",
       "17  2015.0   41208.0\n",
       "18  2016.0   42212.0\n",
       "19  2017.0   36685.0"
      ]
     },
     "execution_count": 33,
     "metadata": {},
     "output_type": "execute_result"
    }
   ],
   "source": [
    "year_total_ff"
   ]
  },
  {
   "cell_type": "markdown",
   "metadata": {},
   "source": [
    "# Monthly Trends in Forest Fires\n",
    "<a id='monthly'></a>"
   ]
  },
  {
   "cell_type": "code",
   "execution_count": 98,
   "metadata": {
    "ExecuteTime": {
     "end_time": "2019-11-25T19:37:05.657049Z",
     "start_time": "2019-11-25T19:37:05.630921Z"
    }
   },
   "outputs": [],
   "source": [
    "#finding the sum of forest fires in each month over 20 years.\n",
    "df_month_sum = df.groupby(['month_num']).sum()"
   ]
  },
  {
   "cell_type": "code",
   "execution_count": 99,
   "metadata": {
    "ExecuteTime": {
     "end_time": "2019-11-25T19:37:06.567611Z",
     "start_time": "2019-11-25T19:37:06.559948Z"
    }
   },
   "outputs": [],
   "source": [
    "df_month_sum.reset_index(inplace=True)"
   ]
  },
  {
   "cell_type": "code",
   "execution_count": 100,
   "metadata": {
    "ExecuteTime": {
     "end_time": "2019-11-25T19:37:07.823089Z",
     "start_time": "2019-11-25T19:37:07.805798Z"
    }
   },
   "outputs": [
    {
     "data": {
      "text/html": [
       "<div>\n",
       "<style scoped>\n",
       "    .dataframe tbody tr th:only-of-type {\n",
       "        vertical-align: middle;\n",
       "    }\n",
       "\n",
       "    .dataframe tbody tr th {\n",
       "        vertical-align: top;\n",
       "    }\n",
       "\n",
       "    .dataframe thead th {\n",
       "        text-align: right;\n",
       "    }\n",
       "</style>\n",
       "<table border=\"1\" class=\"dataframe\">\n",
       "  <thead>\n",
       "    <tr style=\"text-align: right;\">\n",
       "      <th></th>\n",
       "      <th>month_num</th>\n",
       "      <th>year</th>\n",
       "      <th>number</th>\n",
       "    </tr>\n",
       "  </thead>\n",
       "  <tbody>\n",
       "    <tr>\n",
       "      <th>0</th>\n",
       "      <td>1</td>\n",
       "      <td>1086067</td>\n",
       "      <td>47747.844</td>\n",
       "    </tr>\n",
       "    <tr>\n",
       "      <th>1</th>\n",
       "      <td>2</td>\n",
       "      <td>1084050</td>\n",
       "      <td>30848.050</td>\n",
       "    </tr>\n",
       "    <tr>\n",
       "      <th>2</th>\n",
       "      <td>3</td>\n",
       "      <td>1084050</td>\n",
       "      <td>30717.405</td>\n",
       "    </tr>\n",
       "    <tr>\n",
       "      <th>3</th>\n",
       "      <td>4</td>\n",
       "      <td>1084050</td>\n",
       "      <td>28188.770</td>\n",
       "    </tr>\n",
       "    <tr>\n",
       "      <th>4</th>\n",
       "      <td>5</td>\n",
       "      <td>1084050</td>\n",
       "      <td>34731.363</td>\n",
       "    </tr>\n",
       "    <tr>\n",
       "      <th>5</th>\n",
       "      <td>6</td>\n",
       "      <td>1084050</td>\n",
       "      <td>56010.675</td>\n",
       "    </tr>\n",
       "    <tr>\n",
       "      <th>6</th>\n",
       "      <td>7</td>\n",
       "      <td>1084050</td>\n",
       "      <td>92326.113</td>\n",
       "    </tr>\n",
       "    <tr>\n",
       "      <th>7</th>\n",
       "      <td>8</td>\n",
       "      <td>1084050</td>\n",
       "      <td>88050.435</td>\n",
       "    </tr>\n",
       "    <tr>\n",
       "      <th>8</th>\n",
       "      <td>9</td>\n",
       "      <td>1084050</td>\n",
       "      <td>58578.305</td>\n",
       "    </tr>\n",
       "    <tr>\n",
       "      <th>9</th>\n",
       "      <td>10</td>\n",
       "      <td>1084050</td>\n",
       "      <td>88681.579</td>\n",
       "    </tr>\n",
       "    <tr>\n",
       "      <th>10</th>\n",
       "      <td>11</td>\n",
       "      <td>1084050</td>\n",
       "      <td>85508.054</td>\n",
       "    </tr>\n",
       "    <tr>\n",
       "      <th>11</th>\n",
       "      <td>12</td>\n",
       "      <td>1029591</td>\n",
       "      <td>57535.480</td>\n",
       "    </tr>\n",
       "  </tbody>\n",
       "</table>\n",
       "</div>"
      ],
      "text/plain": [
       "    month_num     year     number\n",
       "0           1  1086067  47747.844\n",
       "1           2  1084050  30848.050\n",
       "2           3  1084050  30717.405\n",
       "3           4  1084050  28188.770\n",
       "4           5  1084050  34731.363\n",
       "5           6  1084050  56010.675\n",
       "6           7  1084050  92326.113\n",
       "7           8  1084050  88050.435\n",
       "8           9  1084050  58578.305\n",
       "9          10  1084050  88681.579\n",
       "10         11  1084050  85508.054\n",
       "11         12  1029591  57535.480"
      ]
     },
     "execution_count": 100,
     "metadata": {},
     "output_type": "execute_result"
    }
   ],
   "source": [
    "df_month_sum"
   ]
  },
  {
   "cell_type": "code",
   "execution_count": 101,
   "metadata": {
    "ExecuteTime": {
     "end_time": "2019-11-25T19:37:20.151473Z",
     "start_time": "2019-11-25T19:37:20.145841Z"
    }
   },
   "outputs": [],
   "source": [
    "import matplotlib.pyplot as plt\n",
    "%matplotlib inline\n",
    "import seaborn as sns"
   ]
  },
  {
   "cell_type": "code",
   "execution_count": 102,
   "metadata": {
    "ExecuteTime": {
     "end_time": "2019-11-25T19:37:21.127015Z",
     "start_time": "2019-11-25T19:37:20.434028Z"
    }
   },
   "outputs": [
    {
     "data": {
      "image/png": "[encoded data removed]",
      "text/plain": [
       "<Figure size 432x288 with 1 Axes>"
      ]
     },
     "metadata": {
      "needs_background": "light"
     },
     "output_type": "display_data"
    }
   ],
   "source": [
    "#graphing the total number of fires each month over 20 years.\n",
    "sns.lineplot(df_month_sum['month_num'], df_month_sum['number']).set_title('Total Number of Fires each month over 20 Years')\n",
    "sns.despine()"
   ]
  },
  {
   "cell_type": "code",
   "execution_count": 37,
   "metadata": {
    "ExecuteTime": {
     "end_time": "2019-11-25T16:20:44.941195Z",
     "start_time": "2019-11-25T16:20:44.934337Z"
    }
   },
   "outputs": [],
   "source": [
    "#individual year's number of forest fires over months.\n",
    "def df_year_mon(df, year):\n",
    "    df = df[df['year']==year].groupby(['month_num']).sum()\n",
    "    df.reset_index(inplace=True)\n",
    "    return df\n"
   ]
  },
  {
   "cell_type": "code",
   "execution_count": 392,
   "metadata": {
    "ExecuteTime": {
     "end_time": "2019-11-24T16:14:42.043830Z",
     "start_time": "2019-11-24T16:14:41.852082Z"
    }
   },
   "outputs": [
    {
     "data": {
      "text/plain": [
       "[<matplotlib.lines.Line2D at 0x125080c18>]"
      ]
     },
     "execution_count": 392,
     "metadata": {},
     "output_type": "execute_result"
    },
    {
     "data": {
      "image/png": "[encoded data removed]",
      "text/plain": [
       "<Figure size 432x288 with 1 Axes>"
      ]
     },
     "metadata": {
      "needs_background": "light"
     },
     "output_type": "display_data"
    }
   ],
   "source": [
    "plt.title('1998 Forest Fires in the Amazon over Months')\n",
    "plt.plot(df_year_mon(df, 1998)['month_num'], df_year_mon(df,1998)['number'])"
   ]
  },
  {
   "cell_type": "code",
   "execution_count": 394,
   "metadata": {
    "ExecuteTime": {
     "end_time": "2019-11-24T16:15:03.349253Z",
     "start_time": "2019-11-24T16:15:03.155411Z"
    }
   },
   "outputs": [
    {
     "data": {
      "text/plain": [
       "[<matplotlib.lines.Line2D at 0x1252025c0>]"
      ]
     },
     "execution_count": 394,
     "metadata": {},
     "output_type": "execute_result"
    },
    {
     "data": {
      "image/png": "[encoded data removed]",
      "text/plain": [
       "<Figure size 432x288 with 1 Axes>"
      ]
     },
     "metadata": {
      "needs_background": "light"
     },
     "output_type": "display_data"
    }
   ],
   "source": [
    "plt.title('1999 Forest Fires in the Amazon over Months')\n",
    "plt.plot(df_year_mon(df, 1999)['month_num'], df_year_mon(df,1999)['number'])"
   ]
  },
  {
   "cell_type": "code",
   "execution_count": 396,
   "metadata": {
    "ExecuteTime": {
     "end_time": "2019-11-24T16:15:43.779380Z",
     "start_time": "2019-11-24T16:15:43.577280Z"
    }
   },
   "outputs": [
    {
     "data": {
      "text/plain": [
       "[<matplotlib.lines.Line2D at 0x1253799e8>]"
      ]
     },
     "execution_count": 396,
     "metadata": {},
     "output_type": "execute_result"
    },
    {
     "data": {
      "image/png": "[encoded data removed]",
      "text/plain": [
       "<Figure size 432x288 with 1 Axes>"
      ]
     },
     "metadata": {
      "needs_background": "light"
     },
     "output_type": "display_data"
    }
   ],
   "source": [
    "plt.title('2000 Forest Fires in the Amazon over Months')\n",
    "plt.plot(df_year_mon(df, 2000)['month_num'], df_year_mon(df,2000)['number'])"
   ]
  },
  {
   "cell_type": "code",
   "execution_count": 397,
   "metadata": {
    "ExecuteTime": {
     "end_time": "2019-11-24T16:15:51.935714Z",
     "start_time": "2019-11-24T16:15:51.743771Z"
    }
   },
   "outputs": [
    {
     "data": {
      "text/plain": [
       "[<matplotlib.lines.Line2D at 0x125499be0>]"
      ]
     },
     "execution_count": 397,
     "metadata": {},
     "output_type": "execute_result"
    },
    {
     "data": {
      "image/png": "[encoded data removed]",
      "text/plain": [
       "<Figure size 432x288 with 1 Axes>"
      ]
     },
     "metadata": {
      "needs_background": "light"
     },
     "output_type": "display_data"
    }
   ],
   "source": [
    "plt.title('2001 Forest Fires in the Amazon over Months')\n",
    "plt.plot(df_year_mon(df,2001)['month_num'], df_year_mon(df,2001)['number'])"
   ]
  },
  {
   "cell_type": "code",
   "execution_count": 57,
   "metadata": {
    "ExecuteTime": {
     "end_time": "2019-11-25T16:34:01.593295Z",
     "start_time": "2019-11-25T16:33:59.174483Z"
    }
   },
   "outputs": [],
   "source": [
    "import seaborn as sns"
   ]
  },
  {
   "cell_type": "code",
   "execution_count": 79,
   "metadata": {
    "ExecuteTime": {
     "end_time": "2019-11-25T16:49:08.270255Z",
     "start_time": "2019-11-25T16:49:07.975420Z"
    }
   },
   "outputs": [
    {
     "data": {
      "image/png": "[encoded data removed]",
      "text/plain": [
       "<Figure size 432x288 with 1 Axes>"
      ]
     },
     "metadata": {
      "needs_background": "light"
     },
     "output_type": "display_data"
    }
   ],
   "source": [
    "#comparing the number of forest fires each month in different years.\n",
    "for n in [1998, 2008, 2017]:\n",
    "    sns.lineplot(df_year_mon(df,n)['month_num'], df_year_mon(df,n)['number'], label=n).set_title('Forest Fires in the Amazon over Months')\n",
    "    sns.despine()"
   ]
  },
  {
   "cell_type": "code",
   "execution_count": null,
   "metadata": {
    "ExecuteTime": {
     "end_time": "2019-11-25T18:28:07.244927Z",
     "start_time": "2019-11-25T18:28:07.119470Z"
    }
   },
   "outputs": [],
   "source": []
  },
  {
   "cell_type": "code",
   "execution_count": null,
   "metadata": {
    "ExecuteTime": {
     "end_time": "2019-11-25T18:27:38.038179Z",
     "start_time": "2019-11-25T18:27:38.008902Z"
    }
   },
   "outputs": [],
   "source": []
  },
  {
   "cell_type": "code",
   "execution_count": null,
   "metadata": {},
   "outputs": [],
   "source": []
  }
 ],
 "metadata": {
  "kernelspec": {
   "display_name": "Python 3",
   "language": "python",
   "name": "python3"
  },
  "language_info": {
   "codemirror_mode": {
    "name": "ipython",
    "version": 3
   },
   "file_extension": ".py",
   "mimetype": "text/x-python",
   "name": "python",
   "nbconvert_exporter": "python",
   "pygments_lexer": "ipython3",
   "version": "3.7.3"
  },
  "toc": {
   "base_numbering": 1,
   "nav_menu": {},
   "number_sections": true,
   "sideBar": true,
   "skip_h1_title": false,
   "title_cell": "Table of Contents",
   "title_sidebar": "Contents",
   "toc_cell": false,
   "toc_position": {},
   "toc_section_display": true,
   "toc_window_display": false
  }
 },
 "nbformat": 4,
 "nbformat_minor": 2
}
